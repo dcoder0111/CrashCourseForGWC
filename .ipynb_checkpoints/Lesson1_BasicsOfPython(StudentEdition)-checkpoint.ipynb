{
 "cells": [
  {
   "cell_type": "markdown",
   "id": "c024b43d",
   "metadata": {},
   "source": [
    "# Lesson 1: Basics of Python\n",
    "Author: Dakota Chang\n",
    "\n",
    "Date last edited: 16 Dec 2023\n",
    "\n",
    "Description: This lesson is aimed at the average Olin student after one semester (i.e. basic MATLAB experiences through classes currently known as ModSim and QEA) or a person with prior experience in other programming language. It is intended as a quick recap of all the major concepts and also a way to get used to the syntax of Python. \n",
    "\n",
    "---"
   ]
  },
  {
   "cell_type": "markdown",
   "id": "6497f16a",
   "metadata": {},
   "source": [
    "## Section 1: Basic Data Types"
   ]
  },
  {
   "cell_type": "code",
   "execution_count": 10,
   "id": "276bd432",
   "metadata": {},
   "outputs": [],
   "source": [
    "# Similar to MATLAB, Python has its own versions of data types\n",
    "\n",
    "# Here is an example of an int\n",
    "a = 1\n",
    "\n",
    "# Here is an example of a float\n",
    "b = 0.01\n",
    "\n",
    "# Here is an example of a string\n",
    "c = \"Hello World!\""
   ]
  },
  {
   "cell_type": "markdown",
   "id": "73e54484",
   "metadata": {},
   "source": [
    "As seen in above, Python does not make you store these value in pre-defined variables. You can just name it whatever and put it in there. You can also change the type of these variables by redefining it at any given point. In the code below, we use the function \"type(VARIABLE)\" to examine what type of variables they are."
   ]
  },
  {
   "cell_type": "code",
   "execution_count": 11,
   "id": "2877c118",
   "metadata": {},
   "outputs": [
    {
     "name": "stdout",
     "output_type": "stream",
     "text": [
      "<class 'int'>\n",
      "<class 'float'>\n",
      "<class 'str'>\n"
     ]
    }
   ],
   "source": [
    "print(type(a))\n",
    "print(type(b))\n",
    "print(type(c))"
   ]
  },
  {
   "cell_type": "code",
   "execution_count": 15,
   "id": "d9364f7c",
   "metadata": {
    "scrolled": true
   },
   "outputs": [
    {
     "name": "stdout",
     "output_type": "stream",
     "text": [
      "Ellipsis, congrats on your first line of Python!\n"
     ]
    }
   ],
   "source": [
    "# Now try your own!\n",
    "\n",
    "# Create a string variable of your name!\n",
    "\n",
    "name = ... # add your name!\n",
    "\n",
    "print(str(name) + \", congrats on your first line of Python!\")"
   ]
  },
  {
   "cell_type": "markdown",
   "id": "6dfed1df",
   "metadata": {},
   "source": [
    "You can also do a lot of manipulation with these variables, for example:"
   ]
  },
  {
   "cell_type": "code",
   "execution_count": 23,
   "id": "20ec3361",
   "metadata": {},
   "outputs": [
    {
     "data": {
      "text/plain": [
       "5"
      ]
     },
     "execution_count": 23,
     "metadata": {},
     "output_type": "execute_result"
    }
   ],
   "source": [
    "a = 2\n",
    "b = 3\n",
    "a+b"
   ]
  },
  {
   "cell_type": "code",
   "execution_count": 25,
   "id": "34e451d2",
   "metadata": {},
   "outputs": [
    {
     "data": {
      "text/plain": [
       "-1"
      ]
     },
     "execution_count": 25,
     "metadata": {},
     "output_type": "execute_result"
    }
   ],
   "source": [
    "a-b"
   ]
  },
  {
   "cell_type": "code",
   "execution_count": 26,
   "id": "f94f1920",
   "metadata": {},
   "outputs": [
    {
     "data": {
      "text/plain": [
       "1.5"
      ]
     },
     "execution_count": 26,
     "metadata": {},
     "output_type": "execute_result"
    }
   ],
   "source": [
    "b/a"
   ]
  },
  {
   "cell_type": "code",
   "execution_count": 27,
   "id": "071bb663",
   "metadata": {},
   "outputs": [
    {
     "data": {
      "text/plain": [
       "6"
      ]
     },
     "execution_count": 27,
     "metadata": {},
     "output_type": "execute_result"
    }
   ],
   "source": [
    "b*a"
   ]
  },
  {
   "cell_type": "code",
   "execution_count": 29,
   "id": "180f9c45",
   "metadata": {
    "scrolled": true
   },
   "outputs": [
    {
     "data": {
      "text/plain": [
       "1"
      ]
     },
     "execution_count": 29,
     "metadata": {},
     "output_type": "execute_result"
    }
   ],
   "source": [
    "b%a # this is mod, essentially finding the remainder of a number when divided"
   ]
  },
  {
   "cell_type": "markdown",
   "id": "17f30b63",
   "metadata": {},
   "source": [
    "And it's not just limited to numbers!"
   ]
  },
  {
   "cell_type": "code",
   "execution_count": 33,
   "id": "598d5039",
   "metadata": {},
   "outputs": [
    {
     "data": {
      "text/plain": [
       "'Hello World!'"
      ]
     },
     "execution_count": 33,
     "metadata": {},
     "output_type": "execute_result"
    }
   ],
   "source": [
    "x = \"Hello \"\n",
    "y = \"World\"\n",
    "z = \"!\"\n",
    "\n",
    "example = x+y+z\n",
    "example"
   ]
  },
  {
   "cell_type": "code",
   "execution_count": 32,
   "id": "ea059529",
   "metadata": {},
   "outputs": [],
   "source": [
    "# TODO ADD ARRAYS SECTION\n",
    "# Arrays"
   ]
  },
  {
   "cell_type": "markdown",
   "id": "84db5ddc",
   "metadata": {},
   "source": [
    "---\n",
    "\n",
    "# Section 2: Basic Logic Operations\n",
    "\n",
    "Python's math is pretty intuitive, with it basically being plain math. However, its boolean operations and string operations are a bit different from MATLAB. This section goes through basic data manipulation."
   ]
  },
  {
   "cell_type": "code",
   "execution_count": 17,
   "id": "8911ce6b",
   "metadata": {},
   "outputs": [
    {
     "name": "stdout",
     "output_type": "stream",
     "text": [
      "True\n",
      "False\n",
      "True\n",
      "True\n",
      "False\n",
      "True\n"
     ]
    }
   ],
   "source": [
    "# Boolean operations\n",
    "\n",
    "a = 1\n",
    "b = 1\n",
    "c = 2\n",
    "\n",
    "print(a==b) # \"==\" is equal to in Python\n",
    "print(a==c)\n",
    "print(a!=c) # \"==\" is not equal to in Python\n",
    "\n",
    "# This works for both \n",
    "\n",
    "str1 = 'hello'\n",
    "str2 = 'hello'\n",
    "str3 = 'Hello'\n",
    "\n",
    "print(str1==str2)\n",
    "print(str1==str3)\n",
    "print(str1!=str3)"
   ]
  },
  {
   "cell_type": "code",
   "execution_count": 8,
   "id": "5d6a0c89",
   "metadata": {},
   "outputs": [
    {
     "name": "stdout",
     "output_type": "stream",
     "text": [
      "False\n",
      "True\n",
      "False\n",
      "True\n"
     ]
    }
   ],
   "source": [
    "# Here are more logical operations\n",
    "t = True # remember to capitalize your booleans!\n",
    "f = False\n",
    "\n",
    "print(t and f) # Logical AND;\n",
    "print(t or f)  # Logical OR;\n",
    "print(not t)   # Logical NOT;\n",
    "print(t != f)  # Logical XOR;"
   ]
  },
  {
   "cell_type": "code",
   "execution_count": 14,
   "id": "8662e982",
   "metadata": {},
   "outputs": [],
   "source": [
    "# Now try these problems!\n",
    "a = 10\n",
    "b = 20\n",
    "c = 30\n",
    "\n",
    "# What would this operation return?\n",
    "# a+b == c\n",
    "q1 = ... # put your best guess!\n",
    "\n",
    "# What would this operation return?\n",
    "# q1 and a+b == c\n",
    "q2 = ... # put your best guess!\n",
    "\n",
    "# What would this operation return?\n",
    "# a == c or b == c\n",
    "q3 = ... # put your best guess!\n",
    "\n",
    "\n",
    "# What would this operation return?\n",
    "# not b == c\n",
    "q4 = ... # put your best guess!\n",
    "\n",
    "assert q1 == (a+b == c), \"q1 is incorrect!\"\n",
    "assert q2 == (q1 and a+b == c), \"q2 is incorrect!\"\n",
    "assert q3 == (a == c or b == c), \"q3 is incorrect!\"\n",
    "assert q4 == (not b == c), \"q4 is incorrect!\"\n",
    "\n",
    "print(\"All are correct!\")"
   ]
  },
  {
   "cell_type": "markdown",
   "id": "39aa4e2c",
   "metadata": {},
   "source": [
    "---\n",
    "# Section 3: If/Else\n",
    "\n",
    "Same as MATLAB"
   ]
  },
  {
   "cell_type": "markdown",
   "id": "426bfcfc",
   "metadata": {},
   "source": [
    "Basic Syntax:\n",
    "In MATLAB, you might have used code like this:\n",
    "\n",
    "matlab\n",
    "```\n",
    "if condition\n",
    "    % do something\n",
    "elseif condition\n",
    "    % do something else\n",
    "else\n",
    "    % do something else\n",
    "end\n",
    "```\n",
    "\n",
    "In Python, the equivalent code would look like this:\n",
    "\n",
    "python\n",
    "```\n",
    "if condition:\n",
    "    # do something\n",
    "elif condition: # stands for else if\n",
    "    # do something\n",
    "else:\n",
    "    # do something else\n",
    "```\n",
    "\n",
    "Key Differences:\n",
    "Indentation: Python uses indentation to define code blocks, whereas MATLAB uses keywords like end to mark the end of blocks. In Python, after a colon (:) following an if or else statement, the indented block of code is executed if the condition is true.\n",
    "Colon (:): In Python, a colon is used after the if and else statements to denote the start of the code block.\n",
    "Examples:\n",
    "Example 1:\n",
    "Let's compare a basic example between MATLAB and Python:\n",
    "\n",
    "MATLAB:\n",
    "\n",
    "matlab\n",
    "```\n",
    "x = 10;\n",
    "if x > 5\n",
    "    disp('x is greater than 5');\n",
    "else\n",
    "    disp('x is less than or equal to 5');\n",
    "end\n",
    "```\n",
    "\n",
    "Equivalent Python Code:\n",
    "\n",
    "python\n",
    "```\n",
    "x = 10\n",
    "if x > 5:\n",
    "    print('x is greater than 5')\n",
    "else:\n",
    "    print('x is less than or equal to 5')\n",
    "```\n",
    "\n",
    "Example 2:\n",
    "Using logical operators in conditional statements:\n",
    "\n",
    "MATLAB:\n",
    "\n",
    "matlab\n",
    "```\n",
    "a = 7;\n",
    "b = 5;\n",
    "if a > 5 && b < 10\n",
    "    disp('Both conditions are true');\n",
    "else\n",
    "    disp('At least one condition is false');\n",
    "end\n",
    "```\n",
    "\n",
    "Equivalent Python Code:\n",
    "\n",
    "python\n",
    "```\n",
    "a = 7\n",
    "b = 5\n",
    "if a > 5 and b < 10:\n",
    "    print('Both conditions are true')\n",
    "else:\n",
    "    print('At least one condition is false')\n",
    "```\n",
    "Additional Notes:\n",
    "Python uses and, or, not as logical operators instead of &&, ||, ~ used in MATLAB.\n",
    "Python's indexing typically starts from 0 unlike MATLAB where indexing usually starts from 1.\n",
    "Python also has elif (short for else if) which can be used to check multiple conditions.\n",
    "Remember, this is just a basic overview to get you started with Python's if/else statements. As you continue, you'll explore more complex conditions, nested if/else blocks, and the various applications of conditional statements in Python."
   ]
  },
  {
   "cell_type": "code",
   "execution_count": null,
   "id": "06378b36",
   "metadata": {},
   "outputs": [],
   "source": [
    "# try it out here! "
   ]
  },
  {
   "cell_type": "markdown",
   "id": "54014c1a",
   "metadata": {},
   "source": [
    "---\n",
    "# Section 4: Basic Loop Operations\n",
    "\n",
    "This section will go over for loops, while loops, and recursive functions. I believe the first was covered in ModSim but the latter two are only mentioned. They are very useful so make sure to fully understand this section. IMO coding is all about if-else, mapping, and looping.\n"
   ]
  },
  {
   "cell_type": "markdown",
   "id": "4a7f0c74",
   "metadata": {},
   "source": [
    "#### For Loops"
   ]
  },
  {
   "cell_type": "code",
   "execution_count": 28,
   "id": "ba6f8b8e",
   "metadata": {
    "scrolled": false
   },
   "outputs": [
    {
     "name": "stdout",
     "output_type": "stream",
     "text": [
      "0\n",
      "1\n",
      "2\n",
      "3\n",
      "4\n"
     ]
    }
   ],
   "source": [
    "# Here is an example of a for loop\n",
    "for i in range(5):\n",
    "    print(i)"
   ]
  },
  {
   "cell_type": "markdown",
   "id": "13463c02",
   "metadata": {},
   "source": [
    "Here I will break down the for loop. Python, like many other programming languages, start counting with '0'. In this loop, I create an array using 'range(5)'. The function generates an array '[0,1,2,3,4]'. After, I say \"for i in\", which is essentially to run the code in the loop for each value in this array. In each of these loops, I redefine variable 'i' to be the corresponding value in this array with that line. In the loop, I call the function \"print(i)\", which prints the current value of 'i'. \n",
    "\n",
    "Note: i is a common variable name as it stands for iteration"
   ]
  },
  {
   "cell_type": "code",
   "execution_count": 31,
   "id": "ee2bcf89",
   "metadata": {
    "scrolled": false
   },
   "outputs": [
    {
     "name": "stdout",
     "output_type": "stream",
     "text": [
      "I love Apple.\n",
      "I love Orange.\n",
      "I love Cats.\n",
      "I love Dogs.\n"
     ]
    }
   ],
   "source": [
    "# Here is another example to show that the arrays it loops through does not have to be confined to numbers\n",
    "\n",
    "random_words = ['Apple', 'Orange', 'Cats', 'Dogs']\n",
    "\n",
    "for i in random_words:\n",
    "    print(\"I love \" + i + '.')"
   ]
  },
  {
   "cell_type": "markdown",
   "id": "7d01a3dc",
   "metadata": {},
   "source": [
    "#### While Loops"
   ]
  },
  {
   "cell_type": "code",
   "execution_count": 77,
   "id": "4dad39f1",
   "metadata": {},
   "outputs": [
    {
     "name": "stdout",
     "output_type": "stream",
     "text": [
      "0\n",
      "5\n",
      "8\n",
      "12\n"
     ]
    }
   ],
   "source": [
    "i = 0\n",
    "while i <= 10:\n",
    "    print(i)\n",
    "    i += random.randint(1,5)\n",
    "\n",
    "print(i)"
   ]
  },
  {
   "cell_type": "markdown",
   "id": "b1319c5d",
   "metadata": {},
   "source": [
    "While loops basically mean while something is untrue, we continue to loop the code inside. While loops can replace for loops, but for loops cannot replace while loops. However, most programmers avoid while loops for readability issues. Try to refrain from using while loops unless there is not a set number of loops or the condition to continue running the code is randomised."
   ]
  },
  {
   "cell_type": "markdown",
   "id": "2ebfe7c0",
   "metadata": {},
   "source": [
    "### Recursive Function"
   ]
  },
  {
   "cell_type": "markdown",
   "id": "60cca82a",
   "metadata": {},
   "source": [
    "Recursive functions are functions that call themselves during their execution. Instead of using a loop to iterate and perform a task repeatedly, a recursive function solves a problem by breaking it down into smaller, simpler instances of the same problem until it reaches a base case where it can directly provide an answer without further recursion.\n",
    "\n",
    "Key elements of a recursive function:\n",
    "\n",
    "1. Base Case: This is the condition that determines when the function stops calling itself. It helps prevent infinite recursion and defines a point at which the function returns a value without making further recursive calls.\n",
    "\n",
    "2. Recursive Case: This is where the function calls itself with a modified version of the problem, aiming to reduce it toward the base case.\n",
    "\n",
    "\n",
    "Here, we will do a demonstratino of recursive functions with the Fibonacci sequence.\n",
    "\n",
    "The Fibonacci sequence is a series of numbers where each number is the sum of the two preceding ones, typically starting with 0 and 1. So, the sequence goes: 0, 1, 1, 2, 3, 5, 8, 13, and so on."
   ]
  },
  {
   "cell_type": "code",
   "execution_count": 1,
   "id": "355f1b48",
   "metadata": {
    "scrolled": true
   },
   "outputs": [
    {
     "name": "stdout",
     "output_type": "stream",
     "text": [
      "0\n",
      "1\n",
      "1\n",
      "2\n",
      "3\n",
      "5\n",
      "8\n",
      "13\n",
      "21\n",
      "34\n"
     ]
    }
   ],
   "source": [
    "# fibonacci sequence\n",
    "def fibonacci(n):\n",
    "    if n <= 0:\n",
    "        return 0\n",
    "    elif n == 1:\n",
    "        return 1\n",
    "    else:\n",
    "        return fibonacci(n - 1) + fibonacci(n - 2)\n",
    "\n",
    "# Example usage\n",
    "for i in range(10):  # Change the range to generate more numbers in the sequence\n",
    "    print(fibonacci(i))"
   ]
  },
  {
   "cell_type": "markdown",
   "id": "96ecc5f6",
   "metadata": {},
   "source": [
    "Now try it yourself!\n",
    "\n",
    "Task:\n",
    "Write a recursive function to calculate the sum of all the numbers from 1 to a given input n."
   ]
  },
  {
   "cell_type": "code",
   "execution_count": null,
   "id": "f8816967",
   "metadata": {},
   "outputs": [],
   "source": [
    "def factorial(n):\n",
    "    # write your own code here!\n",
    "    return\n",
    "\n",
    "# Test the factorial function\n",
    "number = 5\n",
    "result = factorial(number)\n",
    "print(f\"The factorial of {number} is {result}\")"
   ]
  },
  {
   "cell_type": "markdown",
   "id": "18eab787",
   "metadata": {},
   "source": [
    "---\n",
    "# Section 5: ArrayLists\n",
    "\n",
    "In Python, an ArrayList is commonly referred to as a list. Unlike arrays in some other languages, lists in Python can dynamically resize during execution. They are versatile and can hold elements of different data types."
   ]
  },
  {
   "cell_type": "markdown",
   "id": "c429d944",
   "metadata": {},
   "source": [
    "#### Creating and Accessing Elements in a List\n",
    "Let's dive into creating and accessing elements within a list:"
   ]
  },
  {
   "cell_type": "code",
   "execution_count": 7,
   "id": "701fb583",
   "metadata": {
    "scrolled": true
   },
   "outputs": [],
   "source": [
    "# Creating a list\n",
    "numbers = [1, 2, 3, 4, 5]\n",
    "names = ['Alice', 'Bob', 'Charlie']\n",
    "mixed_types = [1, 'apple', True, 3.14]\n",
    "\n",
    "# Accessing elements\n",
    "# print(numbers[0])  # What will this print? uncomment after best guess!\n",
    "# print(names[-1])   # What about this? uncomment after best guess!"
   ]
  },
  {
   "cell_type": "markdown",
   "id": "112d17fd",
   "metadata": {},
   "source": [
    "#### Modifying and Adding Elements\n",
    "\n",
    "Lists are mutable, meaning you can change their elements or add new ones:"
   ]
  },
  {
   "cell_type": "code",
   "execution_count": 5,
   "id": "35fb659e",
   "metadata": {
    "scrolled": true
   },
   "outputs": [
    {
     "name": "stdout",
     "output_type": "stream",
     "text": [
      "[1, 2, 10, 4, 5]\n",
      "[1, 2, 10, 4, 5, 6]\n"
     ]
    }
   ],
   "source": [
    "my_list = [1, 2, 3, 4, 5]\n",
    "\n",
    "# Modify an element\n",
    "my_list[2] = 10\n",
    "print(my_list)    # What will be the updated list?\n",
    "\n",
    "# Add an element\n",
    "my_list.append(6)\n",
    "print(my_list)    # What will the list look like now?"
   ]
  },
  {
   "cell_type": "code",
   "execution_count": 15,
   "id": "40337891",
   "metadata": {},
   "outputs": [],
   "source": [
    "# now try adding value names[2] and removing 'apple' from mixed_types\n",
    "\n",
    "# Your code!\n",
    "\n",
    "assert mixed_types == [1, True, 3.14, 'Charlie'], \"Check your code again! You can try printing the list to see where it went wrong.\""
   ]
  }
 ],
 "metadata": {
  "kernelspec": {
   "display_name": "Python 3 (ipykernel)",
   "language": "python",
   "name": "python3"
  },
  "language_info": {
   "codemirror_mode": {
    "name": "ipython",
    "version": 3
   },
   "file_extension": ".py",
   "mimetype": "text/x-python",
   "name": "python",
   "nbconvert_exporter": "python",
   "pygments_lexer": "ipython3",
   "version": "3.10.13"
  }
 },
 "nbformat": 4,
 "nbformat_minor": 5
}
